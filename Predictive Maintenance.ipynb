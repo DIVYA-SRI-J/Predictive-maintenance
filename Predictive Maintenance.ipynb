{
 "cells": [
  {
   "cell_type": "markdown",
   "metadata": {},
   "source": [
    "# Predictive Maintance in Printing Industry"
   ]
  },
  {
   "cell_type": "code",
   "execution_count": null,
   "metadata": {
    "colab": {
     "base_uri": "https://localhost:8080/"
    },
    "id": "cqsg508z13Ll",
    "outputId": "5c5979a5-6456-4b35-823f-043e677349c9"
   },
   "outputs": [
    {
     "name": "stdout",
     "output_type": "stream",
     "text": [
      "Requirement already satisfied: pyjanitor in /usr/local/lib/python3.6/dist-packages (0.20.10)\n",
      "Requirement already satisfied: isort>=4.3.18 in /usr/local/lib/python3.6/dist-packages (from pyjanitor) (5.7.0)\n",
      "Requirement already satisfied: pre-commit in /usr/local/lib/python3.6/dist-packages (from pyjanitor) (2.10.0)\n",
      "Requirement already satisfied: pyspark in /usr/local/lib/python3.6/dist-packages (from pyjanitor) (3.0.1)\n",
      "Requirement already satisfied: lxml in /usr/local/lib/python3.6/dist-packages (from pyjanitor) (4.2.6)\n",
      "Requirement already satisfied: interrogate in /usr/local/lib/python3.6/dist-packages (from pyjanitor) (1.3.2)\n",
      "Requirement already satisfied: ipykernel in /usr/local/lib/python3.6/dist-packages (from pyjanitor) (4.10.1)\n",
      "Requirement already satisfied: pytest-cov in /usr/local/lib/python3.6/dist-packages (from pyjanitor) (2.11.1)\n",
      "Requirement already satisfied: jupyter-client in /usr/local/lib/python3.6/dist-packages (from pyjanitor) (5.3.5)\n",
      "Requirement already satisfied: black>=19.3b0 in /usr/local/lib/python3.6/dist-packages (from pyjanitor) (20.8b1)\n",
      "Requirement already satisfied: natsort in /usr/local/lib/python3.6/dist-packages (from pyjanitor) (5.5.0)\n",
      "Requirement already satisfied: pytest>=3.4.2 in /usr/local/lib/python3.6/dist-packages (from pyjanitor) (3.6.4)\n",
      "Requirement already satisfied: setuptools>=38.5.2 in /usr/local/lib/python3.6/dist-packages (from pyjanitor) (51.3.3)\n",
      "Requirement already satisfied: sphinxcontrib-fulltoc==1.2.0 in /usr/local/lib/python3.6/dist-packages (from pyjanitor) (1.2.0)\n",
      "Requirement already satisfied: pandas-vet in /usr/local/lib/python3.6/dist-packages (from pyjanitor) (0.2.2)\n",
      "Requirement already satisfied: unyt in /usr/local/lib/python3.6/dist-packages (from pyjanitor) (2.8.0)\n",
      "Requirement already satisfied: hypothesis>=4.4.0 in /usr/local/lib/python3.6/dist-packages (from pyjanitor) (6.1.0)\n",
      "Requirement already satisfied: pytest-azurepipelines in /usr/local/lib/python3.6/dist-packages (from pyjanitor) (0.8.0)\n",
      "Requirement already satisfied: xarray in /usr/local/lib/python3.6/dist-packages (from pyjanitor) (0.15.1)\n",
      "Requirement already satisfied: nbsphinx>=0.4.2 in /usr/local/lib/python3.6/dist-packages (from pyjanitor) (0.8.1)\n",
      "Requirement already satisfied: pandas-flavor in /usr/local/lib/python3.6/dist-packages (from pyjanitor) (0.2.0)\n",
      "Requirement already satisfied: scikit-learn in /usr/local/lib/python3.6/dist-packages (from pyjanitor) (0.22.2.post1)\n",
      "Requirement already satisfied: seaborn in /usr/local/lib/python3.6/dist-packages (from pyjanitor) (0.11.1)\n",
      "Requirement already satisfied: cfgv>=2.0.0 in /usr/local/lib/python3.6/dist-packages (from pre-commit->pyjanitor) (3.2.0)\n",
      "Requirement already satisfied: nodeenv>=0.11.1 in /usr/local/lib/python3.6/dist-packages (from pre-commit->pyjanitor) (1.5.0)\n",
      "Requirement already satisfied: virtualenv>=20.0.8 in /usr/local/lib/python3.6/dist-packages (from pre-commit->pyjanitor) (20.4.0)\n",
      "Requirement already satisfied: pyyaml>=5.1 in /usr/local/lib/python3.6/dist-packages (from pre-commit->pyjanitor) (5.4.1)\n",
      "Requirement already satisfied: importlib-metadata; python_version < \"3.8\" in /usr/local/lib/python3.6/dist-packages (from pre-commit->pyjanitor) (3.4.0)\n",
      "Requirement already satisfied: importlib-resources; python_version < \"3.7\" in /usr/local/lib/python3.6/dist-packages (from pre-commit->pyjanitor) (5.1.0)\n",
      "Requirement already satisfied: identify>=1.0.0 in /usr/local/lib/python3.6/dist-packages (from pre-commit->pyjanitor) (1.5.13)\n",
      "Requirement already satisfied: toml in /usr/local/lib/python3.6/dist-packages (from pre-commit->pyjanitor) (0.10.2)\n",
      "Requirement already satisfied: py4j==0.10.9 in /usr/local/lib/python3.6/dist-packages (from pyspark->pyjanitor) (0.10.9)\n",
      "Requirement already satisfied: colorama in /usr/local/lib/python3.6/dist-packages (from interrogate->pyjanitor) (0.4.4)\n",
      "Requirement already satisfied: click in /usr/local/lib/python3.6/dist-packages (from interrogate->pyjanitor) (7.1.2)\n",
      "Requirement already satisfied: attrs in /usr/local/lib/python3.6/dist-packages (from interrogate->pyjanitor) (20.3.0)\n",
      "Requirement already satisfied: tabulate in /usr/local/lib/python3.6/dist-packages (from interrogate->pyjanitor) (0.8.7)\n",
      "Requirement already satisfied: py in /usr/local/lib/python3.6/dist-packages (from interrogate->pyjanitor) (1.10.0)\n",
      "Requirement already satisfied: traitlets>=4.1.0 in /usr/local/lib/python3.6/dist-packages (from ipykernel->pyjanitor) (4.3.3)\n",
      "Requirement already satisfied: ipython>=4.0.0 in /usr/local/lib/python3.6/dist-packages (from ipykernel->pyjanitor) (5.5.0)\n",
      "Requirement already satisfied: tornado>=4.0 in /usr/local/lib/python3.6/dist-packages (from ipykernel->pyjanitor) (5.1.1)\n",
      "Requirement already satisfied: coverage>=5.2.1 in /usr/local/lib/python3.6/dist-packages (from pytest-cov->pyjanitor) (5.4)\n",
      "Requirement already satisfied: pyzmq>=13 in /usr/local/lib/python3.6/dist-packages (from jupyter-client->pyjanitor) (21.0.2)\n",
      "Requirement already satisfied: python-dateutil>=2.1 in /usr/local/lib/python3.6/dist-packages (from jupyter-client->pyjanitor) (2.8.1)\n",
      "Requirement already satisfied: jupyter-core>=4.6.0 in /usr/local/lib/python3.6/dist-packages (from jupyter-client->pyjanitor) (4.7.0)\n",
      "Requirement already satisfied: mypy-extensions>=0.4.3 in /usr/local/lib/python3.6/dist-packages (from black>=19.3b0->pyjanitor) (0.4.3)\n",
      "Requirement already satisfied: appdirs in /usr/local/lib/python3.6/dist-packages (from black>=19.3b0->pyjanitor) (1.4.4)\n",
      "Requirement already satisfied: dataclasses>=0.6; python_version < \"3.7\" in /usr/local/lib/python3.6/dist-packages (from black>=19.3b0->pyjanitor) (0.8)\n",
      "Requirement already satisfied: typing-extensions>=3.7.4 in /usr/local/lib/python3.6/dist-packages (from black>=19.3b0->pyjanitor) (3.7.4.3)\n",
      "Requirement already satisfied: typed-ast>=1.4.0 in /usr/local/lib/python3.6/dist-packages (from black>=19.3b0->pyjanitor) (1.4.2)\n",
      "Requirement already satisfied: regex>=2020.1.8 in /usr/local/lib/python3.6/dist-packages (from black>=19.3b0->pyjanitor) (2020.11.13)\n",
      "Requirement already satisfied: pathspec<1,>=0.6 in /usr/local/lib/python3.6/dist-packages (from black>=19.3b0->pyjanitor) (0.8.1)\n",
      "Requirement already satisfied: pluggy<0.8,>=0.5 in /usr/local/lib/python3.6/dist-packages (from pytest>=3.4.2->pyjanitor) (0.7.1)\n",
      "Requirement already satisfied: atomicwrites>=1.0 in /usr/local/lib/python3.6/dist-packages (from pytest>=3.4.2->pyjanitor) (1.4.0)\n",
      "Requirement already satisfied: six>=1.10.0 in /usr/local/lib/python3.6/dist-packages (from pytest>=3.4.2->pyjanitor) (1.15.0)\n",
      "Requirement already satisfied: more-itertools>=4.0.0 in /usr/local/lib/python3.6/dist-packages (from pytest>=3.4.2->pyjanitor) (8.6.0)\n",
      "Requirement already satisfied: flake8>3.0.0 in /usr/local/lib/python3.6/dist-packages (from pandas-vet->pyjanitor) (3.8.4)\n",
      "Requirement already satisfied: sympy>=1.2 in /usr/local/lib/python3.6/dist-packages (from unyt->pyjanitor) (1.7.1)\n",
      "Requirement already satisfied: numpy>=\"1.13.0\" in /usr/local/lib/python3.6/dist-packages (from unyt->pyjanitor) (1.19.5)\n",
      "Requirement already satisfied: sortedcontainers<3.0.0,>=2.1.0 in /usr/local/lib/python3.6/dist-packages (from hypothesis>=4.4.0->pyjanitor) (2.3.0)\n",
      "Requirement already satisfied: pandas>=0.25 in /usr/local/lib/python3.6/dist-packages (from xarray->pyjanitor) (1.1.5)\n",
      "Requirement already satisfied: nbconvert!=5.4 in /usr/local/lib/python3.6/dist-packages (from nbsphinx>=0.4.2->pyjanitor) (5.6.1)\n",
      "Requirement already satisfied: jinja2 in /usr/local/lib/python3.6/dist-packages (from nbsphinx>=0.4.2->pyjanitor) (2.11.2)\n",
      "Requirement already satisfied: docutils in /usr/local/lib/python3.6/dist-packages (from nbsphinx>=0.4.2->pyjanitor) (0.16)\n",
      "Requirement already satisfied: sphinx>=1.8 in /usr/local/lib/python3.6/dist-packages (from nbsphinx>=0.4.2->pyjanitor) (1.8.5)\n",
      "Requirement already satisfied: nbformat in /usr/local/lib/python3.6/dist-packages (from nbsphinx>=0.4.2->pyjanitor) (5.1.2)\n",
      "Requirement already satisfied: joblib>=0.11 in /usr/local/lib/python3.6/dist-packages (from scikit-learn->pyjanitor) (1.0.0)\n",
      "Requirement already satisfied: scipy>=0.17.0 in /usr/local/lib/python3.6/dist-packages (from scikit-learn->pyjanitor) (1.4.1)\n",
      "Requirement already satisfied: matplotlib>=2.2 in /usr/local/lib/python3.6/dist-packages (from seaborn->pyjanitor) (3.2.2)\n",
      "Requirement already satisfied: distlib<1,>=0.3.1 in /usr/local/lib/python3.6/dist-packages (from virtualenv>=20.0.8->pre-commit->pyjanitor) (0.3.1)\n",
      "Requirement already satisfied: filelock<4,>=3.0.0 in /usr/local/lib/python3.6/dist-packages (from virtualenv>=20.0.8->pre-commit->pyjanitor) (3.0.12)\n",
      "Requirement already satisfied: zipp>=0.5 in /usr/local/lib/python3.6/dist-packages (from importlib-metadata; python_version < \"3.8\"->pre-commit->pyjanitor) (3.4.0)\n",
      "Requirement already satisfied: ipython-genutils in /usr/local/lib/python3.6/dist-packages (from traitlets>=4.1.0->ipykernel->pyjanitor) (0.2.0)\n",
      "Requirement already satisfied: decorator in /usr/local/lib/python3.6/dist-packages (from traitlets>=4.1.0->ipykernel->pyjanitor) (4.4.2)\n",
      "Requirement already satisfied: pygments in /usr/local/lib/python3.6/dist-packages (from ipython>=4.0.0->ipykernel->pyjanitor) (2.6.1)\n",
      "Requirement already satisfied: pickleshare in /usr/local/lib/python3.6/dist-packages (from ipython>=4.0.0->ipykernel->pyjanitor) (0.7.5)\n",
      "Requirement already satisfied: simplegeneric>0.8 in /usr/local/lib/python3.6/dist-packages (from ipython>=4.0.0->ipykernel->pyjanitor) (0.8.1)\n",
      "Requirement already satisfied: prompt-toolkit<2.0.0,>=1.0.4 in /usr/local/lib/python3.6/dist-packages (from ipython>=4.0.0->ipykernel->pyjanitor) (1.0.18)\n",
      "Requirement already satisfied: pexpect; sys_platform != \"win32\" in /usr/local/lib/python3.6/dist-packages (from ipython>=4.0.0->ipykernel->pyjanitor) (4.8.0)\n",
      "Requirement already satisfied: pyflakes<2.3.0,>=2.2.0 in /usr/local/lib/python3.6/dist-packages (from flake8>3.0.0->pandas-vet->pyjanitor) (2.2.0)\n",
      "Requirement already satisfied: mccabe<0.7.0,>=0.6.0 in /usr/local/lib/python3.6/dist-packages (from flake8>3.0.0->pandas-vet->pyjanitor) (0.6.1)\n",
      "Requirement already satisfied: pycodestyle<2.7.0,>=2.6.0a1 in /usr/local/lib/python3.6/dist-packages (from flake8>3.0.0->pandas-vet->pyjanitor) (2.6.0)\n",
      "Requirement already satisfied: mpmath>=0.19 in /usr/local/lib/python3.6/dist-packages (from sympy>=1.2->unyt->pyjanitor) (1.1.0)\n",
      "Requirement already satisfied: pytz>=2017.2 in /usr/local/lib/python3.6/dist-packages (from pandas>=0.25->xarray->pyjanitor) (2018.9)\n",
      "Requirement already satisfied: testpath in /usr/local/lib/python3.6/dist-packages (from nbconvert!=5.4->nbsphinx>=0.4.2->pyjanitor) (0.4.4)\n",
      "Requirement already satisfied: mistune<2,>=0.8.1 in /usr/local/lib/python3.6/dist-packages (from nbconvert!=5.4->nbsphinx>=0.4.2->pyjanitor) (0.8.4)\n",
      "Requirement already satisfied: defusedxml in /usr/local/lib/python3.6/dist-packages (from nbconvert!=5.4->nbsphinx>=0.4.2->pyjanitor) (0.6.0)\n",
      "Requirement already satisfied: entrypoints>=0.2.2 in /usr/local/lib/python3.6/dist-packages (from nbconvert!=5.4->nbsphinx>=0.4.2->pyjanitor) (0.3)\n",
      "Requirement already satisfied: bleach in /usr/local/lib/python3.6/dist-packages (from nbconvert!=5.4->nbsphinx>=0.4.2->pyjanitor) (3.2.3)\n",
      "Requirement already satisfied: pandocfilters>=1.4.1 in /usr/local/lib/python3.6/dist-packages (from nbconvert!=5.4->nbsphinx>=0.4.2->pyjanitor) (1.4.3)\n",
      "Requirement already satisfied: MarkupSafe>=0.23 in /usr/local/lib/python3.6/dist-packages (from jinja2->nbsphinx>=0.4.2->pyjanitor) (1.1.1)\n",
      "Requirement already satisfied: imagesize in /usr/local/lib/python3.6/dist-packages (from sphinx>=1.8->nbsphinx>=0.4.2->pyjanitor) (1.2.0)\n",
      "Requirement already satisfied: snowballstemmer>=1.1 in /usr/local/lib/python3.6/dist-packages (from sphinx>=1.8->nbsphinx>=0.4.2->pyjanitor) (2.1.0)\n",
      "Requirement already satisfied: sphinxcontrib-websupport in /usr/local/lib/python3.6/dist-packages (from sphinx>=1.8->nbsphinx>=0.4.2->pyjanitor) (1.2.4)\n",
      "Requirement already satisfied: babel!=2.0,>=1.3 in /usr/local/lib/python3.6/dist-packages (from sphinx>=1.8->nbsphinx>=0.4.2->pyjanitor) (2.9.0)\n",
      "Requirement already satisfied: packaging in /usr/local/lib/python3.6/dist-packages (from sphinx>=1.8->nbsphinx>=0.4.2->pyjanitor) (20.8)\n",
      "Requirement already satisfied: alabaster<0.8,>=0.7 in /usr/local/lib/python3.6/dist-packages (from sphinx>=1.8->nbsphinx>=0.4.2->pyjanitor) (0.7.12)\n",
      "Requirement already satisfied: requests>=2.0.0 in /usr/local/lib/python3.6/dist-packages (from sphinx>=1.8->nbsphinx>=0.4.2->pyjanitor) (2.23.0)\n",
      "Requirement already satisfied: jsonschema!=2.5.0,>=2.4 in /usr/local/lib/python3.6/dist-packages (from nbformat->nbsphinx>=0.4.2->pyjanitor) (2.6.0)\n",
      "Requirement already satisfied: kiwisolver>=1.0.1 in /usr/local/lib/python3.6/dist-packages (from matplotlib>=2.2->seaborn->pyjanitor) (1.3.1)\n",
      "Requirement already satisfied: cycler>=0.10 in /usr/local/lib/python3.6/dist-packages (from matplotlib>=2.2->seaborn->pyjanitor) (0.10.0)\n",
      "Requirement already satisfied: pyparsing!=2.0.4,!=2.1.2,!=2.1.6,>=2.0.1 in /usr/local/lib/python3.6/dist-packages (from matplotlib>=2.2->seaborn->pyjanitor) (2.4.7)\n",
      "Requirement already satisfied: wcwidth in /usr/local/lib/python3.6/dist-packages (from prompt-toolkit<2.0.0,>=1.0.4->ipython>=4.0.0->ipykernel->pyjanitor) (0.2.5)\n",
      "Requirement already satisfied: ptyprocess>=0.5 in /usr/local/lib/python3.6/dist-packages (from pexpect; sys_platform != \"win32\"->ipython>=4.0.0->ipykernel->pyjanitor) (0.7.0)\n",
      "Requirement already satisfied: webencodings in /usr/local/lib/python3.6/dist-packages (from bleach->nbconvert!=5.4->nbsphinx>=0.4.2->pyjanitor) (0.5.1)\n",
      "Requirement already satisfied: sphinxcontrib-serializinghtml in /usr/local/lib/python3.6/dist-packages (from sphinxcontrib-websupport->sphinx>=1.8->nbsphinx>=0.4.2->pyjanitor) (1.1.4)\n",
      "Requirement already satisfied: chardet<4,>=3.0.2 in /usr/local/lib/python3.6/dist-packages (from requests>=2.0.0->sphinx>=1.8->nbsphinx>=0.4.2->pyjanitor) (3.0.4)\n",
      "Requirement already satisfied: idna<3,>=2.5 in /usr/local/lib/python3.6/dist-packages (from requests>=2.0.0->sphinx>=1.8->nbsphinx>=0.4.2->pyjanitor) (2.10)\n",
      "Requirement already satisfied: urllib3!=1.25.0,!=1.25.1,<1.26,>=1.21.1 in /usr/local/lib/python3.6/dist-packages (from requests>=2.0.0->sphinx>=1.8->nbsphinx>=0.4.2->pyjanitor) (1.24.3)\n",
      "Requirement already satisfied: certifi>=2017.4.17 in /usr/local/lib/python3.6/dist-packages (from requests>=2.0.0->sphinx>=1.8->nbsphinx>=0.4.2->pyjanitor) (2020.12.5)\n"
     ]
    }
   ],
   "source": [
    "!pip install pyjanitor"
   ]
  },
  {
   "cell_type": "code",
   "execution_count": 4,
   "metadata": {
    "id": "7qAJ0hak_P2m"
   },
   "outputs": [],
   "source": [
    "import numpy as np\n",
    "import pandas as pd\n",
    "import seaborn as sns\n",
    "import matplotlib.pyplot as plt\n",
    "import datetime\n",
    "import janitor\n",
    "import keras\n",
    "import time"
   ]
  },
  {
   "cell_type": "markdown",
   "metadata": {},
   "source": [
    "# Reading and Exploring Data"
   ]
  },
  {
   "cell_type": "code",
   "execution_count": 6,
   "metadata": {
    "colab": {
     "base_uri": "https://localhost:8080/",
     "height": 411
    },
    "id": "iEat5i3R_abR",
    "outputId": "b7eb53a0-7718-49b7-f180-086fae3f9723"
   },
   "outputs": [
    {
     "data": {
      "text/html": [
       "<div>\n",
       "<style scoped>\n",
       "    .dataframe tbody tr th:only-of-type {\n",
       "        vertical-align: middle;\n",
       "    }\n",
       "\n",
       "    .dataframe tbody tr th {\n",
       "        vertical-align: top;\n",
       "    }\n",
       "\n",
       "    .dataframe thead th {\n",
       "        text-align: right;\n",
       "    }\n",
       "</style>\n",
       "<table border=\"1\" class=\"dataframe\">\n",
       "  <thead>\n",
       "    <tr style=\"text-align: right;\">\n",
       "      <th></th>\n",
       "      <th>Unnamed: 0</th>\n",
       "      <th>timestamp</th>\n",
       "      <th>sensor_00</th>\n",
       "      <th>sensor_01</th>\n",
       "      <th>sensor_02</th>\n",
       "      <th>sensor_03</th>\n",
       "      <th>sensor_04</th>\n",
       "      <th>sensor_05</th>\n",
       "      <th>sensor_06</th>\n",
       "      <th>sensor_07</th>\n",
       "      <th>sensor_08</th>\n",
       "      <th>sensor_09</th>\n",
       "      <th>sensor_10</th>\n",
       "      <th>sensor_11</th>\n",
       "      <th>sensor_12</th>\n",
       "      <th>sensor_13</th>\n",
       "      <th>sensor_14</th>\n",
       "      <th>sensor_15</th>\n",
       "      <th>sensor_16</th>\n",
       "      <th>sensor_17</th>\n",
       "      <th>sensor_18</th>\n",
       "      <th>sensor_19</th>\n",
       "      <th>sensor_20</th>\n",
       "      <th>sensor_21</th>\n",
       "      <th>sensor_22</th>\n",
       "      <th>sensor_23</th>\n",
       "      <th>sensor_24</th>\n",
       "      <th>sensor_25</th>\n",
       "      <th>sensor_26</th>\n",
       "      <th>sensor_27</th>\n",
       "      <th>sensor_28</th>\n",
       "      <th>sensor_29</th>\n",
       "      <th>sensor_30</th>\n",
       "      <th>sensor_31</th>\n",
       "      <th>sensor_32</th>\n",
       "      <th>sensor_33</th>\n",
       "      <th>sensor_34</th>\n",
       "      <th>sensor_35</th>\n",
       "      <th>sensor_36</th>\n",
       "      <th>sensor_37</th>\n",
       "      <th>sensor_38</th>\n",
       "      <th>sensor_39</th>\n",
       "      <th>sensor_40</th>\n",
       "      <th>sensor_41</th>\n",
       "      <th>sensor_42</th>\n",
       "      <th>sensor_43</th>\n",
       "      <th>sensor_44</th>\n",
       "      <th>sensor_45</th>\n",
       "      <th>sensor_46</th>\n",
       "      <th>sensor_47</th>\n",
       "      <th>sensor_48</th>\n",
       "      <th>sensor_49</th>\n",
       "      <th>sensor_50</th>\n",
       "      <th>sensor_51</th>\n",
       "      <th>machine_status</th>\n",
       "    </tr>\n",
       "  </thead>\n",
       "  <tbody>\n",
       "    <tr>\n",
       "      <th>0</th>\n",
       "      <td>0</td>\n",
       "      <td>2018-04-01 00:00:00</td>\n",
       "      <td>2.465394</td>\n",
       "      <td>47.09201</td>\n",
       "      <td>53.2118</td>\n",
       "      <td>46.310760</td>\n",
       "      <td>634.3750</td>\n",
       "      <td>76.45975</td>\n",
       "      <td>13.41146</td>\n",
       "      <td>16.13136</td>\n",
       "      <td>15.56713</td>\n",
       "      <td>15.05353</td>\n",
       "      <td>37.22740</td>\n",
       "      <td>47.52422</td>\n",
       "      <td>31.11716</td>\n",
       "      <td>1.681353</td>\n",
       "      <td>419.5747</td>\n",
       "      <td>NaN</td>\n",
       "      <td>461.8781</td>\n",
       "      <td>466.3284</td>\n",
       "      <td>2.565284</td>\n",
       "      <td>665.3993</td>\n",
       "      <td>398.9862</td>\n",
       "      <td>880.0001</td>\n",
       "      <td>498.8926</td>\n",
       "      <td>975.9409</td>\n",
       "      <td>627.6740</td>\n",
       "      <td>741.7151</td>\n",
       "      <td>848.0708</td>\n",
       "      <td>429.0377</td>\n",
       "      <td>785.1935</td>\n",
       "      <td>684.9443</td>\n",
       "      <td>594.4445</td>\n",
       "      <td>682.8125</td>\n",
       "      <td>680.4416</td>\n",
       "      <td>433.7037</td>\n",
       "      <td>171.9375</td>\n",
       "      <td>341.9039</td>\n",
       "      <td>195.0655</td>\n",
       "      <td>90.32386</td>\n",
       "      <td>40.36458</td>\n",
       "      <td>31.51042</td>\n",
       "      <td>70.57291</td>\n",
       "      <td>30.98958</td>\n",
       "      <td>31.770832</td>\n",
       "      <td>41.92708</td>\n",
       "      <td>39.641200</td>\n",
       "      <td>65.68287</td>\n",
       "      <td>50.92593</td>\n",
       "      <td>38.194440</td>\n",
       "      <td>157.9861</td>\n",
       "      <td>67.70834</td>\n",
       "      <td>243.0556</td>\n",
       "      <td>201.3889</td>\n",
       "      <td>NORMAL</td>\n",
       "    </tr>\n",
       "    <tr>\n",
       "      <th>1</th>\n",
       "      <td>1</td>\n",
       "      <td>2018-04-01 00:01:00</td>\n",
       "      <td>2.465394</td>\n",
       "      <td>47.09201</td>\n",
       "      <td>53.2118</td>\n",
       "      <td>46.310760</td>\n",
       "      <td>634.3750</td>\n",
       "      <td>76.45975</td>\n",
       "      <td>13.41146</td>\n",
       "      <td>16.13136</td>\n",
       "      <td>15.56713</td>\n",
       "      <td>15.05353</td>\n",
       "      <td>37.22740</td>\n",
       "      <td>47.52422</td>\n",
       "      <td>31.11716</td>\n",
       "      <td>1.681353</td>\n",
       "      <td>419.5747</td>\n",
       "      <td>NaN</td>\n",
       "      <td>461.8781</td>\n",
       "      <td>466.3284</td>\n",
       "      <td>2.565284</td>\n",
       "      <td>665.3993</td>\n",
       "      <td>398.9862</td>\n",
       "      <td>880.0001</td>\n",
       "      <td>498.8926</td>\n",
       "      <td>975.9409</td>\n",
       "      <td>627.6740</td>\n",
       "      <td>741.7151</td>\n",
       "      <td>848.0708</td>\n",
       "      <td>429.0377</td>\n",
       "      <td>785.1935</td>\n",
       "      <td>684.9443</td>\n",
       "      <td>594.4445</td>\n",
       "      <td>682.8125</td>\n",
       "      <td>680.4416</td>\n",
       "      <td>433.7037</td>\n",
       "      <td>171.9375</td>\n",
       "      <td>341.9039</td>\n",
       "      <td>195.0655</td>\n",
       "      <td>90.32386</td>\n",
       "      <td>40.36458</td>\n",
       "      <td>31.51042</td>\n",
       "      <td>70.57291</td>\n",
       "      <td>30.98958</td>\n",
       "      <td>31.770832</td>\n",
       "      <td>41.92708</td>\n",
       "      <td>39.641200</td>\n",
       "      <td>65.68287</td>\n",
       "      <td>50.92593</td>\n",
       "      <td>38.194440</td>\n",
       "      <td>157.9861</td>\n",
       "      <td>67.70834</td>\n",
       "      <td>243.0556</td>\n",
       "      <td>201.3889</td>\n",
       "      <td>NORMAL</td>\n",
       "    </tr>\n",
       "    <tr>\n",
       "      <th>2</th>\n",
       "      <td>2</td>\n",
       "      <td>2018-04-01 00:02:00</td>\n",
       "      <td>2.444734</td>\n",
       "      <td>47.35243</td>\n",
       "      <td>53.2118</td>\n",
       "      <td>46.397570</td>\n",
       "      <td>638.8889</td>\n",
       "      <td>73.54598</td>\n",
       "      <td>13.32465</td>\n",
       "      <td>16.03733</td>\n",
       "      <td>15.61777</td>\n",
       "      <td>15.01013</td>\n",
       "      <td>37.86777</td>\n",
       "      <td>48.17723</td>\n",
       "      <td>32.08894</td>\n",
       "      <td>1.708474</td>\n",
       "      <td>420.8480</td>\n",
       "      <td>NaN</td>\n",
       "      <td>462.7798</td>\n",
       "      <td>459.6364</td>\n",
       "      <td>2.500062</td>\n",
       "      <td>666.2234</td>\n",
       "      <td>399.9418</td>\n",
       "      <td>880.4237</td>\n",
       "      <td>501.3617</td>\n",
       "      <td>982.7342</td>\n",
       "      <td>631.1326</td>\n",
       "      <td>740.8031</td>\n",
       "      <td>849.8997</td>\n",
       "      <td>454.2390</td>\n",
       "      <td>778.5734</td>\n",
       "      <td>715.6266</td>\n",
       "      <td>661.5740</td>\n",
       "      <td>721.8750</td>\n",
       "      <td>694.7721</td>\n",
       "      <td>441.2635</td>\n",
       "      <td>169.9820</td>\n",
       "      <td>343.1955</td>\n",
       "      <td>200.9694</td>\n",
       "      <td>93.90508</td>\n",
       "      <td>41.40625</td>\n",
       "      <td>31.25000</td>\n",
       "      <td>69.53125</td>\n",
       "      <td>30.46875</td>\n",
       "      <td>31.770830</td>\n",
       "      <td>41.66666</td>\n",
       "      <td>39.351852</td>\n",
       "      <td>65.39352</td>\n",
       "      <td>51.21528</td>\n",
       "      <td>38.194443</td>\n",
       "      <td>155.9606</td>\n",
       "      <td>67.12963</td>\n",
       "      <td>241.3194</td>\n",
       "      <td>203.7037</td>\n",
       "      <td>NORMAL</td>\n",
       "    </tr>\n",
       "    <tr>\n",
       "      <th>3</th>\n",
       "      <td>3</td>\n",
       "      <td>2018-04-01 00:03:00</td>\n",
       "      <td>2.460474</td>\n",
       "      <td>47.09201</td>\n",
       "      <td>53.1684</td>\n",
       "      <td>46.397568</td>\n",
       "      <td>628.1250</td>\n",
       "      <td>76.98898</td>\n",
       "      <td>13.31742</td>\n",
       "      <td>16.24711</td>\n",
       "      <td>15.69734</td>\n",
       "      <td>15.08247</td>\n",
       "      <td>38.57977</td>\n",
       "      <td>48.65607</td>\n",
       "      <td>31.67221</td>\n",
       "      <td>1.579427</td>\n",
       "      <td>420.7494</td>\n",
       "      <td>NaN</td>\n",
       "      <td>462.8980</td>\n",
       "      <td>460.8858</td>\n",
       "      <td>2.509521</td>\n",
       "      <td>666.0114</td>\n",
       "      <td>399.1046</td>\n",
       "      <td>878.8917</td>\n",
       "      <td>499.0430</td>\n",
       "      <td>977.7520</td>\n",
       "      <td>625.4076</td>\n",
       "      <td>739.2722</td>\n",
       "      <td>847.7579</td>\n",
       "      <td>474.8731</td>\n",
       "      <td>779.5091</td>\n",
       "      <td>690.4011</td>\n",
       "      <td>686.1111</td>\n",
       "      <td>754.6875</td>\n",
       "      <td>683.3831</td>\n",
       "      <td>446.2493</td>\n",
       "      <td>166.4987</td>\n",
       "      <td>343.9586</td>\n",
       "      <td>193.1689</td>\n",
       "      <td>101.04060</td>\n",
       "      <td>41.92708</td>\n",
       "      <td>31.51042</td>\n",
       "      <td>72.13541</td>\n",
       "      <td>30.46875</td>\n",
       "      <td>31.510420</td>\n",
       "      <td>40.88541</td>\n",
       "      <td>39.062500</td>\n",
       "      <td>64.81481</td>\n",
       "      <td>51.21528</td>\n",
       "      <td>38.194440</td>\n",
       "      <td>155.9606</td>\n",
       "      <td>66.84028</td>\n",
       "      <td>240.4514</td>\n",
       "      <td>203.1250</td>\n",
       "      <td>NORMAL</td>\n",
       "    </tr>\n",
       "    <tr>\n",
       "      <th>4</th>\n",
       "      <td>4</td>\n",
       "      <td>2018-04-01 00:04:00</td>\n",
       "      <td>2.445718</td>\n",
       "      <td>47.13541</td>\n",
       "      <td>53.2118</td>\n",
       "      <td>46.397568</td>\n",
       "      <td>636.4583</td>\n",
       "      <td>76.58897</td>\n",
       "      <td>13.35359</td>\n",
       "      <td>16.21094</td>\n",
       "      <td>15.69734</td>\n",
       "      <td>15.08247</td>\n",
       "      <td>39.48939</td>\n",
       "      <td>49.06298</td>\n",
       "      <td>31.95202</td>\n",
       "      <td>1.683831</td>\n",
       "      <td>419.8926</td>\n",
       "      <td>NaN</td>\n",
       "      <td>461.4906</td>\n",
       "      <td>468.2206</td>\n",
       "      <td>2.604785</td>\n",
       "      <td>663.2111</td>\n",
       "      <td>400.5426</td>\n",
       "      <td>882.5874</td>\n",
       "      <td>498.5383</td>\n",
       "      <td>979.5755</td>\n",
       "      <td>627.1830</td>\n",
       "      <td>737.6033</td>\n",
       "      <td>846.9182</td>\n",
       "      <td>408.8159</td>\n",
       "      <td>785.2307</td>\n",
       "      <td>704.6937</td>\n",
       "      <td>631.4814</td>\n",
       "      <td>766.1458</td>\n",
       "      <td>702.4431</td>\n",
       "      <td>433.9081</td>\n",
       "      <td>164.7498</td>\n",
       "      <td>339.9630</td>\n",
       "      <td>193.8770</td>\n",
       "      <td>101.70380</td>\n",
       "      <td>42.70833</td>\n",
       "      <td>31.51042</td>\n",
       "      <td>76.82291</td>\n",
       "      <td>30.98958</td>\n",
       "      <td>31.510420</td>\n",
       "      <td>41.40625</td>\n",
       "      <td>38.773150</td>\n",
       "      <td>65.10416</td>\n",
       "      <td>51.79398</td>\n",
       "      <td>38.773150</td>\n",
       "      <td>158.2755</td>\n",
       "      <td>66.55093</td>\n",
       "      <td>242.1875</td>\n",
       "      <td>201.3889</td>\n",
       "      <td>NORMAL</td>\n",
       "    </tr>\n",
       "  </tbody>\n",
       "</table>\n",
       "</div>"
      ],
      "text/plain": [
       "   Unnamed: 0            timestamp  ...  sensor_51  machine_status\n",
       "0           0  2018-04-01 00:00:00  ...   201.3889          NORMAL\n",
       "1           1  2018-04-01 00:01:00  ...   201.3889          NORMAL\n",
       "2           2  2018-04-01 00:02:00  ...   203.7037          NORMAL\n",
       "3           3  2018-04-01 00:03:00  ...   203.1250          NORMAL\n",
       "4           4  2018-04-01 00:04:00  ...   201.3889          NORMAL\n",
       "\n",
       "[5 rows x 55 columns]"
      ]
     },
     "execution_count": 6,
     "metadata": {
      "tags": []
     },
     "output_type": "execute_result"
    }
   ],
   "source": [
    "df = pd.read_csv('sensor.csv')\n",
    "df.head()"
   ]
  },
  {
   "cell_type": "markdown",
   "metadata": {},
   "source": [
    "# Preprocessing Data"
   ]
  },
  {
   "cell_type": "code",
   "execution_count": 7,
   "metadata": {
    "id": "skV-3m5s_gjw"
   },
   "outputs": [],
   "source": [
    "#parse datetime stamp\n",
    "format_str = '%Y-%m-%d %H:%M:%S'  # The format\n",
    "\n",
    "df['timestamp'] = pd.DataFrame([datetime.datetime.strptime(date, format_str) for date in df['timestamp']])"
   ]
  },
  {
   "cell_type": "code",
   "execution_count": 8,
   "metadata": {
    "colab": {
     "base_uri": "https://localhost:8080/"
    },
    "id": "XHOKyo9F_k8L",
    "outputId": "6425dbef-cde5-48d5-c329-88b53bc4a78e"
   },
   "outputs": [
    {
     "data": {
      "text/plain": [
       "Unnamed: 0          0.000000\n",
       "timestamp           0.000000\n",
       "sensor_00           4.633261\n",
       "sensor_01           0.167484\n",
       "sensor_02           0.008624\n",
       "sensor_03           0.008624\n",
       "sensor_04           0.008624\n",
       "sensor_05           0.008624\n",
       "sensor_06           2.177741\n",
       "sensor_07           2.474129\n",
       "sensor_08           2.317992\n",
       "sensor_09           2.085603\n",
       "sensor_10           0.008624\n",
       "sensor_11           0.008624\n",
       "sensor_12           0.008624\n",
       "sensor_13           0.008624\n",
       "sensor_14           0.009532\n",
       "sensor_15         100.000000\n",
       "sensor_16           0.014070\n",
       "sensor_17           0.020879\n",
       "sensor_18           0.020879\n",
       "sensor_19           0.007262\n",
       "sensor_20           0.007262\n",
       "sensor_21           0.007262\n",
       "sensor_22           0.018609\n",
       "sensor_23           0.007262\n",
       "sensor_24           0.007262\n",
       "sensor_25           0.016340\n",
       "sensor_26           0.009078\n",
       "sensor_27           0.007262\n",
       "sensor_28           0.007262\n",
       "sensor_29           0.032680\n",
       "sensor_30           0.118464\n",
       "sensor_31           0.007262\n",
       "sensor_32           0.030864\n",
       "sensor_33           0.007262\n",
       "sensor_34           0.007262\n",
       "sensor_35           0.007262\n",
       "sensor_36           0.007262\n",
       "sensor_37           0.007262\n",
       "sensor_38           0.012255\n",
       "sensor_39           0.012255\n",
       "sensor_40           0.012255\n",
       "sensor_41           0.012255\n",
       "sensor_42           0.012255\n",
       "sensor_43           0.012255\n",
       "sensor_44           0.012255\n",
       "sensor_45           0.012255\n",
       "sensor_46           0.012255\n",
       "sensor_47           0.012255\n",
       "sensor_48           0.012255\n",
       "sensor_49           0.012255\n",
       "sensor_50          34.956881\n",
       "sensor_51           6.982117\n",
       "machine_status      0.000000\n",
       "dtype: float64"
      ]
     },
     "execution_count": 8,
     "metadata": {
      "tags": []
     },
     "output_type": "execute_result"
    }
   ],
   "source": [
    "df.shape\n",
    "df.columns\n",
    "100*df.isna().sum()/len(df)"
   ]
  },
  {
   "cell_type": "code",
   "execution_count": 9,
   "metadata": {
    "colab": {
     "base_uri": "https://localhost:8080/",
     "height": 394
    },
    "id": "Teo02KDH_o4H",
    "outputId": "9298b66f-f7e9-4109-88f0-22acfec61105"
   },
   "outputs": [
    {
     "data": {
      "text/html": [
       "<div>\n",
       "<style scoped>\n",
       "    .dataframe tbody tr th:only-of-type {\n",
       "        vertical-align: middle;\n",
       "    }\n",
       "\n",
       "    .dataframe tbody tr th {\n",
       "        vertical-align: top;\n",
       "    }\n",
       "\n",
       "    .dataframe thead th {\n",
       "        text-align: right;\n",
       "    }\n",
       "</style>\n",
       "<table border=\"1\" class=\"dataframe\">\n",
       "  <thead>\n",
       "    <tr style=\"text-align: right;\">\n",
       "      <th></th>\n",
       "      <th>timestamp</th>\n",
       "      <th>sensor_14</th>\n",
       "      <th>sensor_16</th>\n",
       "      <th>sensor_17</th>\n",
       "      <th>sensor_18</th>\n",
       "      <th>sensor_19</th>\n",
       "      <th>sensor_20</th>\n",
       "      <th>sensor_21</th>\n",
       "      <th>sensor_22</th>\n",
       "      <th>sensor_23</th>\n",
       "      <th>sensor_24</th>\n",
       "      <th>sensor_25</th>\n",
       "      <th>sensor_26</th>\n",
       "      <th>sensor_27</th>\n",
       "      <th>sensor_28</th>\n",
       "      <th>sensor_29</th>\n",
       "      <th>machine_status</th>\n",
       "    </tr>\n",
       "  </thead>\n",
       "  <tbody>\n",
       "    <tr>\n",
       "      <th>0</th>\n",
       "      <td>2018-04-01 00:00:00</td>\n",
       "      <td>419.5747</td>\n",
       "      <td>461.8781</td>\n",
       "      <td>466.3284</td>\n",
       "      <td>2.565284</td>\n",
       "      <td>665.3993</td>\n",
       "      <td>398.9862</td>\n",
       "      <td>880.0001</td>\n",
       "      <td>498.8926</td>\n",
       "      <td>975.9409</td>\n",
       "      <td>627.6740</td>\n",
       "      <td>741.7151</td>\n",
       "      <td>848.0708</td>\n",
       "      <td>429.0377</td>\n",
       "      <td>785.1935</td>\n",
       "      <td>684.9443</td>\n",
       "      <td>NORMAL</td>\n",
       "    </tr>\n",
       "    <tr>\n",
       "      <th>1</th>\n",
       "      <td>2018-04-01 00:01:00</td>\n",
       "      <td>419.5747</td>\n",
       "      <td>461.8781</td>\n",
       "      <td>466.3284</td>\n",
       "      <td>2.565284</td>\n",
       "      <td>665.3993</td>\n",
       "      <td>398.9862</td>\n",
       "      <td>880.0001</td>\n",
       "      <td>498.8926</td>\n",
       "      <td>975.9409</td>\n",
       "      <td>627.6740</td>\n",
       "      <td>741.7151</td>\n",
       "      <td>848.0708</td>\n",
       "      <td>429.0377</td>\n",
       "      <td>785.1935</td>\n",
       "      <td>684.9443</td>\n",
       "      <td>NORMAL</td>\n",
       "    </tr>\n",
       "    <tr>\n",
       "      <th>2</th>\n",
       "      <td>2018-04-01 00:02:00</td>\n",
       "      <td>420.8480</td>\n",
       "      <td>462.7798</td>\n",
       "      <td>459.6364</td>\n",
       "      <td>2.500062</td>\n",
       "      <td>666.2234</td>\n",
       "      <td>399.9418</td>\n",
       "      <td>880.4237</td>\n",
       "      <td>501.3617</td>\n",
       "      <td>982.7342</td>\n",
       "      <td>631.1326</td>\n",
       "      <td>740.8031</td>\n",
       "      <td>849.8997</td>\n",
       "      <td>454.2390</td>\n",
       "      <td>778.5734</td>\n",
       "      <td>715.6266</td>\n",
       "      <td>NORMAL</td>\n",
       "    </tr>\n",
       "    <tr>\n",
       "      <th>3</th>\n",
       "      <td>2018-04-01 00:03:00</td>\n",
       "      <td>420.7494</td>\n",
       "      <td>462.8980</td>\n",
       "      <td>460.8858</td>\n",
       "      <td>2.509521</td>\n",
       "      <td>666.0114</td>\n",
       "      <td>399.1046</td>\n",
       "      <td>878.8917</td>\n",
       "      <td>499.0430</td>\n",
       "      <td>977.7520</td>\n",
       "      <td>625.4076</td>\n",
       "      <td>739.2722</td>\n",
       "      <td>847.7579</td>\n",
       "      <td>474.8731</td>\n",
       "      <td>779.5091</td>\n",
       "      <td>690.4011</td>\n",
       "      <td>NORMAL</td>\n",
       "    </tr>\n",
       "    <tr>\n",
       "      <th>4</th>\n",
       "      <td>2018-04-01 00:04:00</td>\n",
       "      <td>419.8926</td>\n",
       "      <td>461.4906</td>\n",
       "      <td>468.2206</td>\n",
       "      <td>2.604785</td>\n",
       "      <td>663.2111</td>\n",
       "      <td>400.5426</td>\n",
       "      <td>882.5874</td>\n",
       "      <td>498.5383</td>\n",
       "      <td>979.5755</td>\n",
       "      <td>627.1830</td>\n",
       "      <td>737.6033</td>\n",
       "      <td>846.9182</td>\n",
       "      <td>408.8159</td>\n",
       "      <td>785.2307</td>\n",
       "      <td>704.6937</td>\n",
       "      <td>NORMAL</td>\n",
       "    </tr>\n",
       "  </tbody>\n",
       "</table>\n",
       "</div>"
      ],
      "text/plain": [
       "            timestamp  sensor_14  ...  sensor_29  machine_status\n",
       "0 2018-04-01 00:00:00   419.5747  ...   684.9443          NORMAL\n",
       "1 2018-04-01 00:01:00   419.5747  ...   684.9443          NORMAL\n",
       "2 2018-04-01 00:02:00   420.8480  ...   715.6266          NORMAL\n",
       "3 2018-04-01 00:03:00   420.7494  ...   690.4011          NORMAL\n",
       "4 2018-04-01 00:04:00   419.8926  ...   704.6937          NORMAL\n",
       "\n",
       "[5 rows x 17 columns]"
      ]
     },
     "execution_count": 9,
     "metadata": {
      "tags": []
     },
     "output_type": "execute_result"
    }
   ],
   "source": [
    "df = df.drop(['sensor_00', 'sensor_01', 'sensor_02', 'sensor_03', 'sensor_04','sensor_05', 'sensor_06', 'sensor_07', 'sensor_08', 'sensor_09', 'sensor_10', 'sensor_11', 'sensor_12', 'sensor_13', 'sensor_15', 'sensor_30', 'sensor_31', 'sensor_32','sensor_33','sensor_34','sensor_35','sensor_36','sensor_37','sensor_38','sensor_39', 'sensor_40', 'sensor_41', 'sensor_42', 'sensor_43', 'sensor_44', 'sensor_45', 'sensor_46', 'sensor_47','sensor_48', 'sensor_49', 'sensor_50', 'sensor_51','Unnamed: 0'],axis=1)\n",
    "\n",
    "df.head()"
   ]
  },
  {
   "cell_type": "code",
   "execution_count": 10,
   "metadata": {
    "colab": {
     "base_uri": "https://localhost:8080/"
    },
    "id": "AWW30kis_tbt",
    "outputId": "d22ae4a2-3182-4f4e-f1dc-3e22194f06dd"
   },
   "outputs": [
    {
     "data": {
      "text/plain": [
       "timestamp         0.0\n",
       "sensor_14         0.0\n",
       "sensor_16         0.0\n",
       "sensor_17         0.0\n",
       "sensor_18         0.0\n",
       "sensor_19         0.0\n",
       "sensor_20         0.0\n",
       "sensor_21         0.0\n",
       "sensor_22         0.0\n",
       "sensor_23         0.0\n",
       "sensor_24         0.0\n",
       "sensor_25         0.0\n",
       "sensor_26         0.0\n",
       "sensor_27         0.0\n",
       "sensor_28         0.0\n",
       "sensor_29         0.0\n",
       "machine_status    0.0\n",
       "dtype: float64"
      ]
     },
     "execution_count": 10,
     "metadata": {
      "tags": []
     },
     "output_type": "execute_result"
    }
   ],
   "source": [
    "columns = [col for col in df.columns if not col.find('sensor')]\n",
    "for col in columns:\n",
    "    df[col] = df[col].fillna(df[col].mean())\n",
    "df.shape\n",
    "df.columns\n",
    "100*df.isna().sum()/len(df)"
   ]
  },
  {
   "cell_type": "markdown",
   "metadata": {},
   "source": [
    "# Calculation Correlation and Heatmap"
   ]
  },
  {
   "cell_type": "code",
   "execution_count": 11,
   "metadata": {
    "id": "lsmMgL2m_zgx"
   },
   "outputs": [],
   "source": [
    "from matplotlib import pyplot as plt\n",
    "from sklearn import datasets\n",
    "from sklearn.preprocessing import MinMaxScaler\n",
    "from sklearn.metrics import confusion_matrix, recall_score, precision_score,fbeta_score"
   ]
  },
  {
   "cell_type": "code",
   "execution_count": 12,
   "metadata": {
    "colab": {
     "base_uri": "https://localhost:8080/",
     "height": 535
    },
    "id": "t0SZNZ-a_44Y",
    "outputId": "d4279ed1-132f-4229-d1e7-0af88a373181"
   },
   "outputs": [
    {
     "data": {
      "image/png": "[encoded data removed]",
      "text/plain": [
       "<Figure size 720x720 with 2 Axes>"
      ]
     },
     "metadata": {
      "needs_background": "light",
      "tags": []
     },
     "output_type": "display_data"
    }
   ],
   "source": [
    "def correlation_heatmap(df):\n",
    "    correlations = df.corr()\n",
    "\n",
    "    fig, ax = plt.subplots(figsize=(10,10))\n",
    "    sns.heatmap(correlations, vmax=1.0, center=0, fmt='.2f',\n",
    "                square=True, linewidths=.5, annot=True, cbar_kws={\"shrink\": .70})\n",
    "    plt.show();\n",
    "    \n",
    "correlation_heatmap(df)"
   ]
  },
  {
   "cell_type": "markdown",
   "metadata": {},
   "source": [
    "# Finding RUL"
   ]
  },
  {
   "cell_type": "code",
   "execution_count": 13,
   "metadata": {
    "colab": {
     "base_uri": "https://localhost:8080/"
    },
    "id": "Y-uG7Gm2FbvJ",
    "outputId": "9fffb42f-323d-4fe6-f769-c449ff173a1d"
   },
   "outputs": [
    {
     "name": "stderr",
     "output_type": "stream",
     "text": [
      "/usr/local/lib/python3.6/dist-packages/ipykernel_launcher.py:8: SettingWithCopyWarning: \n",
      "A value is trying to be set on a copy of a slice from a DataFrame.\n",
      "Try using .loc[row_indexer,col_indexer] = value instead\n",
      "\n",
      "See the caveats in the documentation: https://pandas.pydata.org/pandas-docs/stable/user_guide/indexing.html#returning-a-view-versus-a-copy\n",
      "  \n"
     ]
    }
   ],
   "source": [
    "def cal_rul(df):\n",
    "    error = df[df['machine_status'] == 'BROKEN']\n",
    "    arr=[]\n",
    "    d = df['timestamp'].iloc[0]\n",
    "    for date_error in error['timestamp']:\n",
    "        \n",
    "        filter = df.filter_date('timestamp',d, date_error)\n",
    "        filter['rul'] = date_error - filter['timestamp']\n",
    "        \n",
    "        arr.append(filter)\n",
    "        d = date_error\n",
    "    \n",
    "    result = pd.concat(arr)\n",
    "    \n",
    "\n",
    "    return result.loc[~result.index.duplicated(keep='first')] #remove duplicates indices\n",
    "\n",
    "rul = cal_rul(df)"
   ]
  },
  {
   "cell_type": "code",
   "execution_count": 14,
   "metadata": {
    "id": "SguSiW2MFgOs"
   },
   "outputs": [],
   "source": [
    "rul['rul']\n",
    "\n",
    "mod_time = np.timedelta64(14, 'D')#moderate_timeline\n",
    "emer_time = np.timedelta64(7, 'D')#emergency_timeline\n",
    "#label to show rul 14 days before failure"
   ]
  },
  {
   "cell_type": "code",
   "execution_count": 15,
   "metadata": {
    "id": "EUq_CrgMFkR2"
   },
   "outputs": [],
   "source": [
    "# fail1 indicates a failure will occur within the next 30 cycles, where 1 indicates failure, 0 indicates good cond \n",
    "rul['fail1'] = np.where(rul['rul'] <= mod_time, 1, 0 )"
   ]
  },
  {
   "cell_type": "code",
   "execution_count": 16,
   "metadata": {
    "id": "VtAujhd9Fo5r"
   },
   "outputs": [],
   "source": [
    "#Scaling\n",
    "col_normalize = rul.columns.difference(['id','timestamp','rul','fail1','fail','machine_status'])\n",
    "scaler = MinMaxScaler()\n",
    "rul[col_normalize] = scaler.fit_transform(rul[col_normalize])"
   ]
  },
  {
   "cell_type": "code",
   "execution_count": 17,
   "metadata": {
    "id": "JmIfjewJFryu"
   },
   "outputs": [],
   "source": [
    "rul[\"rul\"] = rul[\"rul\"].apply(lambda x: x.total_seconds()/3600) #converting to hours"
   ]
  },
  {
   "cell_type": "code",
   "execution_count": 18,
   "metadata": {
    "id": "NjPjgkAUFuuL"
   },
   "outputs": [],
   "source": [
    "rul[rul['machine_status'] ==\"BROKEN\"]\n",
    "\n",
    "rul['time_norm']= rul['timestamp'].values.tolist()\n",
    "rul[\"time_norm\"] = (rul[\"time_norm\"]-rul[\"time_norm\"].min())/(rul[\"time_norm\"].max()-rul[\"time_norm\"].min())\n",
    "\n",
    "train = rul.iloc[:77790,:].drop(['machine_status',\"timestamp\"],axis=1)\n",
    "train[\"time_norm\"] = (train[\"time_norm\"]-train[\"time_norm\"].min())/(train[\"time_norm\"].max()-train[\"time_norm\"].min())\n",
    "\n",
    "\n",
    "test = rul.iloc[77791:,:].drop(['machine_status',\"timestamp\"],axis=1)\n",
    "test[\"time_norm\"] = (test[\"time_norm\"]-test[\"time_norm\"].min())/(test[\"time_norm\"].max()-test[\"time_norm\"].min())\n",
    "\n",
    "train['rul'] = train['rul'].values.tolist()"
   ]
  },
  {
   "cell_type": "code",
   "execution_count": 19,
   "metadata": {
    "colab": {
     "base_uri": "https://localhost:8080/"
    },
    "id": "qkJ0KajrFy5N",
    "outputId": "2f49b315-56a7-4a32-e2f9-3ce42436e4c9"
   },
   "outputs": [
    {
     "data": {
      "text/plain": [
       "count    88650.000000\n",
       "mean       313.676782\n",
       "std        231.096187\n",
       "min          0.000000\n",
       "25%        123.116667\n",
       "50%        260.275000\n",
       "75%        468.112500\n",
       "max        837.483333\n",
       "Name: rul, dtype: float64"
      ]
     },
     "execution_count": 19,
     "metadata": {
      "tags": []
     },
     "output_type": "execute_result"
    }
   ],
   "source": [
    "test['rul'].describe()"
   ]
  },
  {
   "cell_type": "code",
   "execution_count": 20,
   "metadata": {
    "colab": {
     "base_uri": "https://localhost:8080/"
    },
    "id": "8Nqm04VMF32X",
    "outputId": "9a7c6643-a147-4595-f0b1-f96d27144d76"
   },
   "outputs": [
    {
     "data": {
      "text/plain": [
       "['sensor_14',\n",
       " 'sensor_16',\n",
       " 'sensor_17',\n",
       " 'sensor_18',\n",
       " 'sensor_19',\n",
       " 'sensor_20',\n",
       " 'sensor_21',\n",
       " 'sensor_22',\n",
       " 'sensor_23',\n",
       " 'sensor_24',\n",
       " 'sensor_25',\n",
       " 'sensor_26',\n",
       " 'sensor_27',\n",
       " 'sensor_28',\n",
       " 'sensor_29']"
      ]
     },
     "execution_count": 20,
     "metadata": {
      "tags": []
     },
     "output_type": "execute_result"
    }
   ],
   "source": [
    "feature=[column for column in df.columns if not column.find('sensor')]\n",
    "target='fail1'\n",
    "\n",
    "feature"
   ]
  },
  {
   "cell_type": "markdown",
   "metadata": {},
   "source": [
    "# Modelling"
   ]
  },
  {
   "cell_type": "code",
   "execution_count": 21,
   "metadata": {
    "id": "DPQmw8OIF7zm"
   },
   "outputs": [],
   "source": [
    "seq_len=100\n",
    "seq_col=feature"
   ]
  },
  {
   "cell_type": "code",
   "execution_count": 22,
   "metadata": {
    "id": "QQ9urvn0F-jA"
   },
   "outputs": [],
   "source": [
    "def gen_seq(id_df, seq_len, seq_col):\n",
    "    data_mat = id_df[seq_col].values\n",
    "    num_ele = data_mat.shape[0]\n",
    "    for start, stop in zip(range(0, num_ele-seq_len), range(seq_len, num_ele)):\n",
    "        yield data_mat[start:stop, :]"
   ]
  },
  {
   "cell_type": "code",
   "execution_count": 23,
   "metadata": {
    "id": "7a3y9stLGD84"
   },
   "outputs": [],
   "source": [
    "def gen_label(id_df, seq_len, label):\n",
    "    data_mat = id_df[label].values\n",
    "    num_ele = data_mat.shape[0]\n",
    "    return data_mat[seq_len:num_ele, :]"
   ]
  },
  {
   "cell_type": "code",
   "execution_count": 24,
   "metadata": {
    "colab": {
     "base_uri": "https://localhost:8080/"
    },
    "id": "4mAT5KGhGIXG",
    "outputId": "62d00a39-a097-425e-aa63-9de49fc53eaf"
   },
   "outputs": [
    {
     "name": "stdout",
     "output_type": "stream",
     "text": [
      "(77690, 100, 15)\n"
     ]
    }
   ],
   "source": [
    "seq_gen = [list(gen_seq(train, seq_len, seq_col))]\n",
    "\n",
    "seq_arr = np.concatenate(list(seq_gen)).astype(np.float32)\n",
    "print(seq_arr.shape)"
   ]
  },
  {
   "cell_type": "code",
   "execution_count": 25,
   "metadata": {
    "colab": {
     "base_uri": "https://localhost:8080/"
    },
    "id": "GJ7yD4gRGMOK",
    "outputId": "76c10405-5ef7-46cf-c0e7-cb8f33e08f95"
   },
   "outputs": [
    {
     "data": {
      "text/plain": [
       "(77690, 1)"
      ]
     },
     "execution_count": 25,
     "metadata": {
      "tags": []
     },
     "output_type": "execute_result"
    }
   ],
   "source": [
    "label_gen = [gen_label(train, seq_len, ['fail1'])]\n",
    "\n",
    "label_arr = np.concatenate(label_gen).astype(np.float32)\n",
    "label_arr.shape"
   ]
  },
  {
   "cell_type": "code",
   "execution_count": 26,
   "metadata": {
    "id": "NVNsHIQjGPEs"
   },
   "outputs": [],
   "source": [
    "def fbeta(y_true, y_pred, threshold=0):\n",
    "    beta = 10\n",
    "\n",
    "    # just in case of hipster activation at the final layer\n",
    "    y_pred = K.clip(y_pred, 0, 1)\n",
    "\n",
    "    # shifting the prediction threshold from .5 if needed\n",
    "    y_pred_bin = K.round(y_pred + threshold)\n",
    "\n",
    "    tp = K.sum(K.round(y_true * y_pred_bin)) + K.epsilon()\n",
    "    fp = K.sum(K.round(K.clip(y_pred_bin - y_true, 0, 1)))\n",
    "    fn = K.sum(K.round(K.clip(y_true - y_pred, 0, 1)))\n",
    "\n",
    "    precision = tp / (tp + fp)\n",
    "    recall = tp / (tp + fn)\n",
    "\n",
    "    beta_squared = beta ** 2\n",
    "    return (beta_squared + 1) * (precision * recall) / (beta_squared * precision + recall + K.epsilon())"
   ]
  },
  {
   "cell_type": "code",
   "execution_count": 28,
   "metadata": {
    "id": "nPGbjtyQGgfK"
   },
   "outputs": [],
   "source": [
    "from keras import backend as K\n",
    "from keras.models import Sequential\n",
    "from keras.layers import Dense, Dropout, LSTM, Activation"
   ]
  },
  {
   "cell_type": "code",
   "execution_count": 29,
   "metadata": {
    "colab": {
     "base_uri": "https://localhost:8080/"
    },
    "id": "RCJb6qVJGS8d",
    "outputId": "05184545-537e-45f3-8075-03a0647c6c56"
   },
   "outputs": [
    {
     "name": "stdout",
     "output_type": "stream",
     "text": [
      "Model: \"sequential\"\n",
      "_________________________________________________________________\n",
      "Layer (type)                 Output Shape              Param #   \n",
      "=================================================================\n",
      "lstm (LSTM)                  (None, 100, 100)          46400     \n",
      "_________________________________________________________________\n",
      "dropout (Dropout)            (None, 100, 100)          0         \n",
      "_________________________________________________________________\n",
      "lstm_1 (LSTM)                (None, 50)                30200     \n",
      "_________________________________________________________________\n",
      "dropout_1 (Dropout)          (None, 50)                0         \n",
      "_________________________________________________________________\n",
      "dense (Dense)                (None, 1)                 51        \n",
      "=================================================================\n",
      "Total params: 76,651\n",
      "Trainable params: 76,651\n",
      "Non-trainable params: 0\n",
      "_________________________________________________________________\n",
      "None\n"
     ]
    }
   ],
   "source": [
    "nb_features = seq_arr.shape[2]\n",
    "nb_out = label_arr[1]\n",
    "\n",
    "# LSTM model\n",
    "model = Sequential()\n",
    "\n",
    "# The first layer\n",
    "model.add(LSTM(\n",
    "         input_shape=(seq_len, nb_features),\n",
    "         units=100,\n",
    "         return_sequences=True))\n",
    "\n",
    "# Plus a 20% dropout rate\n",
    "model.add(Dropout(0.2))\n",
    "\n",
    "# The second layer\n",
    "model.add(LSTM(\n",
    "          units=50,\n",
    "          return_sequences=False))\n",
    "\n",
    "# Plus a 20% dropout rate\n",
    "model.add(Dropout(0.2))\n",
    "\n",
    "# Dense sigmoid layer\n",
    "model.add(Dense(units=nb_out, activation='sigmoid'))\n",
    "\n",
    "# With adam optimizer and a binary crossentropy loss. We will opimize for model accuracy.\n",
    "model.compile(loss='binary_crossentropy', optimizer='adam', metrics=[fbeta])\n",
    "\n",
    "# Verify the architecture \n",
    "print(model.summary())\n"
   ]
  },
  {
   "cell_type": "code",
   "execution_count": 30,
   "metadata": {
    "colab": {
     "base_uri": "https://localhost:8080/"
    },
    "id": "FJHQJTO2GpQw",
    "outputId": "f214f199-c4a8-4a42-8ebc-4bbc70092eea"
   },
   "outputs": [
    {
     "name": "stdout",
     "output_type": "stream",
     "text": [
      "Epoch 1/10\n",
      "350/350 [==============================] - 15s 18ms/step - loss: 0.6243 - fbeta: 0.9381 - val_loss: 0.3913 - val_fbeta: 1.0000\n",
      "Epoch 2/10\n",
      "350/350 [==============================] - 5s 16ms/step - loss: 0.6342 - fbeta: 0.9091 - val_loss: 0.3924 - val_fbeta: 1.0000\n",
      "Epoch 3/10\n",
      "350/350 [==============================] - 5s 15ms/step - loss: 0.6150 - fbeta: 0.9489 - val_loss: 0.4223 - val_fbeta: 1.0000\n",
      "Epoch 4/10\n",
      "350/350 [==============================] - 5s 15ms/step - loss: 0.6017 - fbeta: 0.9690 - val_loss: 0.3281 - val_fbeta: 1.0000\n",
      "Epoch 5/10\n",
      "350/350 [==============================] - 5s 16ms/step - loss: 0.5853 - fbeta: 0.9399 - val_loss: 0.4607 - val_fbeta: 1.0000\n",
      "Epoch 6/10\n",
      "350/350 [==============================] - 5s 16ms/step - loss: 0.5708 - fbeta: 0.9728 - val_loss: 0.3929 - val_fbeta: 1.0000\n",
      "Epoch 7/10\n",
      "350/350 [==============================] - 5s 16ms/step - loss: 0.5450 - fbeta: 0.9496 - val_loss: 0.4095 - val_fbeta: 1.0000\n",
      "Epoch 8/10\n",
      "350/350 [==============================] - 5s 15ms/step - loss: 0.5364 - fbeta: 0.9569 - val_loss: 0.5825 - val_fbeta: 1.0000\n",
      "Epoch 9/10\n",
      "350/350 [==============================] - 5s 15ms/step - loss: 0.5557 - fbeta: 0.9710 - val_loss: 0.3893 - val_fbeta: 1.0000\n"
     ]
    },
    {
     "data": {
      "text/plain": [
       "<tensorflow.python.keras.callbacks.History at 0x7f6d9e445a20>"
      ]
     },
     "execution_count": 30,
     "metadata": {
      "tags": []
     },
     "output_type": "execute_result"
    }
   ],
   "source": [
    "t0 = time.time()\n",
    "# fitting network\n",
    "model.fit(seq_arr,label_arr,epochs=10,batch_size=200,validation_split=0.10,verbose=1,\n",
    "        callbacks = [keras.callbacks.EarlyStopping(monitor='val_loss',min_delta=0,patience=5,verbose=0,mode='auto')])"
   ]
  },
  {
   "cell_type": "markdown",
   "metadata": {},
   "source": [
    "# Accuracy of the model"
   ]
  },
  {
   "cell_type": "code",
   "execution_count": 31,
   "metadata": {
    "colab": {
     "base_uri": "https://localhost:8080/"
    },
    "id": "3pDpFZ5aG-I_",
    "outputId": "ea3d8429-46ba-4516-f011-f51f308c6f3e"
   },
   "outputs": [
    {
     "name": "stdout",
     "output_type": "stream",
     "text": [
      "389/389 [==============================] - 3s 8ms/step - loss: 0.4623 - fbeta: 0.7323\n",
      "Training Accurracy: 0.7323291301727295\n"
     ]
    }
   ],
   "source": [
    "# training metrics\n",
    "score = model.evaluate(seq_arr, label_arr, verbose=1, batch_size=200)\n",
    "print('Training Accurracy: {}'.format(score[1]))"
   ]
  },
  {
   "cell_type": "code",
   "execution_count": 32,
   "metadata": {
    "colab": {
     "base_uri": "https://localhost:8080/"
    },
    "id": "Rwbo5TdyHFJj",
    "outputId": "99ace1e3-56b3-41cf-bc94-79c0f54b09e1"
   },
   "outputs": [
    {
     "name": "stderr",
     "output_type": "stream",
     "text": [
      "/usr/local/lib/python3.6/dist-packages/tensorflow/python/keras/engine/sequential.py:450: UserWarning: `model.predict_classes()` is deprecated and will be removed after 2021-01-01. Please use instead:* `np.argmax(model.predict(x), axis=-1)`,   if your model does multi-class classification   (e.g. if it uses a `softmax` last-layer activation).* `(model.predict(x) > 0.5).astype(\"int32\")`,   if your model does binary classification   (e.g. if it uses a `sigmoid` last-layer activation).\n",
      "  warnings.warn('`model.predict_classes()` is deprecated and '\n"
     ]
    },
    {
     "name": "stdout",
     "output_type": "stream",
     "text": [
      "389/389 [==============================] - 3s 7ms/step\n",
      "Training Confusion matrix\n",
      "- x-axis is true labels.\n",
      "- y-axis is predicted labels\n"
     ]
    },
    {
     "data": {
      "text/plain": [
       "array([[ 5839, 18808],\n",
       "       [  339, 52704]])"
      ]
     },
     "execution_count": 32,
     "metadata": {
      "tags": []
     },
     "output_type": "execute_result"
    }
   ],
   "source": [
    "# make predictions and compute confusion matrix\n",
    "y_pred = model.predict_classes(seq_arr,verbose=1, batch_size=200)\n",
    "y_true = label_arr\n",
    "print('Training Confusion matrix\\n- x-axis is true labels.\\n- y-axis is predicted labels')\n",
    "cm = confusion_matrix(y_true, y_pred)\n",
    "cm"
   ]
  },
  {
   "cell_type": "code",
   "execution_count": 33,
   "metadata": {
    "colab": {
     "base_uri": "https://localhost:8080/"
    },
    "id": "xVFJJB18HG2G",
    "outputId": "97e901d0-d42d-4e35-9cd9-e086377962c1"
   },
   "outputs": [
    {
     "name": "stdout",
     "output_type": "stream",
     "text": [
      "Training Precision:  0.7369951896185256 \n",
      " Training Recall:  0.9936089587693003 \n",
      " Training F1 Score: 0.8462767452129581\n",
      "0.7771365208749274\n"
     ]
    }
   ],
   "source": [
    "precision = precision_score(y_true, y_pred)\n",
    "recall = recall_score(y_true, y_pred)\n",
    "f1 = 2 * (precision * recall) / (precision + recall)\n",
    "print( 'Training Precision: ', precision, '\\n', 'Training Recall: ', recall, '\\n', 'Training F1 Score:', f1)\n",
    "print(fbeta_score(y_true, y_pred,beta=0.5))"
   ]
  }
 ],
 "metadata": {
  "accelerator": "GPU",
  "colab": {
   "name": "Untitled0.ipynb",
   "provenance": []
  },
  "kernelspec": {
   "display_name": "Python 3",
   "language": "python",
   "name": "python3"
  },
  "language_info": {
   "codemirror_mode": {
    "name": "ipython",
    "version": 3
   },
   "file_extension": ".py",
   "mimetype": "text/x-python",
   "name": "python",
   "nbconvert_exporter": "python",
   "pygments_lexer": "ipython3",
   "version": "3.7.6"
  }
 },
 "nbformat": 4,
 "nbformat_minor": 1
}
